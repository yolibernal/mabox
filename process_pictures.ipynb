{
 "cells": [
  {
   "cell_type": "code",
   "execution_count": 83,
   "metadata": {},
   "outputs": [],
   "source": [
    "from PIL import Image, ExifTags\n",
    "import os\n",
    "import json\n",
    "import datetime"
   ]
  },
  {
   "cell_type": "code",
   "execution_count": null,
   "metadata": {},
   "outputs": [],
   "source": [
    "PICTURES_DIR = \"resources/pictures\""
   ]
  },
  {
   "cell_type": "code",
   "execution_count": 84,
   "metadata": {},
   "outputs": [
    {
     "data": {
      "text/plain": [
       "(52.54654, 13.35121)"
      ]
     },
     "execution_count": 84,
     "metadata": {},
     "output_type": "execute_result"
    }
   ],
   "source": [
    "# https://developer.here.com/blog/getting-started-with-geocoding-exif-image-metadata-in-python3\n",
    "def get_exif(filename):\n",
    "    image = Image.open(filename)\n",
    "    image.verify()\n",
    "    return image._getexif()\n",
    "\n",
    "\n",
    "def get_geotagging(exif):\n",
    "    if not exif:\n",
    "        raise ValueError(\"No EXIF metadata found\")\n",
    "\n",
    "    geotagging = {}\n",
    "    for (idx, tag) in ExifTags.TAGS.items():\n",
    "        if tag == \"GPSInfo\":\n",
    "            if idx not in exif:\n",
    "                raise ValueError(\"No EXIF geotagging found\")\n",
    "\n",
    "            for (key, val) in ExifTags.GPSTAGS.items():\n",
    "                if key in exif[idx]:\n",
    "                    geotagging[val] = exif[idx][key]\n",
    "\n",
    "    return geotagging\n",
    "\n",
    "\n",
    "def get_decimal_from_dms(dms, ref):\n",
    "    degrees = dms[0]\n",
    "    minutes = dms[1] / 60.0\n",
    "    seconds = dms[2] / 3600.0\n",
    "\n",
    "    if ref in [\"S\", \"W\"]:\n",
    "        degrees = -degrees\n",
    "        minutes = -minutes\n",
    "        seconds = -seconds\n",
    "\n",
    "    return round(degrees + minutes + seconds, 5)\n",
    "\n",
    "\n",
    "def get_coordinates(geotags):\n",
    "    lat = get_decimal_from_dms(geotags[\"GPSLatitude\"], geotags[\"GPSLatitudeRef\"])\n",
    "    lon = get_decimal_from_dms(geotags[\"GPSLongitude\"], geotags[\"GPSLongitudeRef\"])\n",
    "\n",
    "    return (lat, lon)\n",
    "\n",
    "def get_coordinates_for_image(img):\n",
    "    exif = img._getexif()\n",
    "    geotags = get_geotagging(exif)\n",
    "    coordinates = get_coordinates(geotags)\n",
    "    return coordinates\n",
    "\n",
    "coordinates = get_coordinates_for_image(img)\n",
    "coordinates\n"
   ]
  },
  {
   "cell_type": "code",
   "execution_count": 85,
   "metadata": {},
   "outputs": [],
   "source": [
    "def get_date_for_image(img):\n",
    "    exif = {\n",
    "        ExifTags.TAGS[k]: v\n",
    "        for k, v in img._getexif().items()\n",
    "        if k in ExifTags.TAGS and type(v) is not bytes\n",
    "    }\n",
    "\n",
    "    if \"DateTimeOriginal\" not in exif:\n",
    "        return None\n",
    "    dateRaw = exif[\"DateTimeOriginal\"]\n",
    "    date = datetime.datetime.strptime(dateRaw, \"%Y:%m:%d %H:%M:%S\").isoformat()\n",
    "    return date\n"
   ]
  },
  {
   "cell_type": "code",
   "execution_count": 86,
   "metadata": {},
   "outputs": [],
   "source": [
    "img_configs = []\n",
    "\n",
    "# traverse root directory, and list directories as dirs and files as files\n",
    "for root, dirs, files in os.walk(PICTURES_DIR):\n",
    "    path = root.split(os.sep)\n",
    "    for file in files:\n",
    "        img_path = os.path.join(root, file)\n",
    "        img = Image.open(img_path)\n",
    "\n",
    "        coordinates = get_coordinates_for_image(img)\n",
    "        lat, lng = coordinates\n",
    "\n",
    "        date = get_date_for_image(img)\n",
    "        config = {\n",
    "            \"path\": img_path,\n",
    "            \"location\": {\n",
    "                \"lat\": lat,\n",
    "                \"lng\": lng\n",
    "            },\n",
    "            \"date\": date\n",
    "        }\n",
    "        img_configs += [config]\n"
   ]
  },
  {
   "cell_type": "code",
   "execution_count": 87,
   "metadata": {},
   "outputs": [],
   "source": [
    "with open(\"picture-configs.json\", \"w\") as f:\n",
    "    json.dump(img_configs, f)"
   ]
  }
 ],
 "metadata": {
  "interpreter": {
   "hash": "3f44a33143b336d3929909e6a1f900a90cc981357d8f49c3527a5d1bcb101efa"
  },
  "kernelspec": {
   "display_name": "Python 3.8.12 64-bit ('photo-control-station-ZhT7KQcK-py3.8': poetry)",
   "language": "python",
   "name": "python3"
  },
  "language_info": {
   "codemirror_mode": {
    "name": "ipython",
    "version": 3
   },
   "file_extension": ".py",
   "mimetype": "text/x-python",
   "name": "python",
   "nbconvert_exporter": "python",
   "pygments_lexer": "ipython3",
   "version": "3.8.12"
  },
  "orig_nbformat": 4
 },
 "nbformat": 4,
 "nbformat_minor": 2
}
